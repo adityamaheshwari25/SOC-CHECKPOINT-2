{
 "cells": [
  {
   "cell_type": "code",
   "execution_count": 1,
   "metadata": {
    "colab": {
     "base_uri": "https://localhost:8080/"
    },
    "id": "dtHdr1GCgCpx",
    "outputId": "795fa88f-912f-4891-ce42-5b3348b2dff2"
   },
   "outputs": [
    {
     "name": "stdout",
     "output_type": "stream",
     "text": [
      "Collecting pafy\n",
      "  Downloading pafy-0.5.5-py2.py3-none-any.whl (35 kB)\n",
      "Installing collected packages: pafy\n",
      "Successfully installed pafy-0.5.5\n",
      "Collecting youtube-dl\n",
      "  Downloading youtube_dl-2021.6.6-py2.py3-none-any.whl (1.9 MB)\n",
      "Installing collected packages: youtube-dl\n",
      "Successfully installed youtube-dl-2021.6.6\n"
     ]
    }
   ],
   "source": [
    "!pip install pafy\n",
    "!pip install youtube-dl"
   ]
  },
  {
   "cell_type": "code",
   "execution_count": 2,
   "metadata": {
    "colab": {
     "base_uri": "https://localhost:8080/"
    },
    "id": "s-Xk6KuRgPxw",
    "outputId": "9c084c7b-518d-4f96-a74e-b7cbe79e167e"
   },
   "outputs": [
    {
     "ename": "ModuleNotFoundError",
     "evalue": "No module named 'google'",
     "output_type": "error",
     "traceback": [
      "\u001b[1;31m---------------------------------------------------------------------------\u001b[0m",
      "\u001b[1;31mModuleNotFoundError\u001b[0m                       Traceback (most recent call last)",
      "\u001b[1;32m<ipython-input-2-d5df0069828e>\u001b[0m in \u001b[0;36m<module>\u001b[1;34m\u001b[0m\n\u001b[1;32m----> 1\u001b[1;33m \u001b[1;32mfrom\u001b[0m \u001b[0mgoogle\u001b[0m\u001b[1;33m.\u001b[0m\u001b[0mcolab\u001b[0m \u001b[1;32mimport\u001b[0m \u001b[0mdrive\u001b[0m\u001b[1;33m\u001b[0m\u001b[1;33m\u001b[0m\u001b[0m\n\u001b[0m\u001b[0;32m      2\u001b[0m \u001b[0mdrive\u001b[0m\u001b[1;33m.\u001b[0m\u001b[0mmount\u001b[0m\u001b[1;33m(\u001b[0m\u001b[1;34m'/content/drive'\u001b[0m\u001b[1;33m)\u001b[0m\u001b[1;33m\u001b[0m\u001b[1;33m\u001b[0m\u001b[0m\n",
      "\u001b[1;31mModuleNotFoundError\u001b[0m: No module named 'google'"
     ]
    }
   ],
   "source": [
    "from google.colab import drive\n",
    "drive.mount('/content/drive')"
   ]
  },
  {
   "cell_type": "code",
   "execution_count": null,
   "metadata": {
    "id": "yc6w7t2qgeDN"
   },
   "outputs": [],
   "source": [
    "import os\n",
    "path = '/content/drive/MyDrive/My_PreTrained'\n",
    "output_dir = '/content/drive/MyDrive/My_PreTrained'"
   ]
  },
  {
   "cell_type": "code",
   "execution_count": null,
   "metadata": {
    "colab": {
     "base_uri": "https://localhost:8080/"
    },
    "id": "CHN2z1wsgukR",
    "outputId": "5c4740cd-8b6f-4af5-9513-0d275d5bb9b6"
   },
   "outputs": [],
   "source": [
    "# Importing OpenCV, pafy for youtube video processing and time library\n",
    "import cv2\n",
    "import numpy as np\n",
    "import pafy\n",
    "import time\n",
    "\n",
    "# cv2.imshow doesn't work in colab hence cv2_imshow(image) would have to be done\n",
    "from google.colab.patches import cv2_imshow\n",
    "\n",
    "# Would run the video processing code for n seconds only\n",
    "n = 60\n",
    "\n",
    "# Setting up output video writer\n",
    "fourcc = cv2.VideoWriter_fourcc(*'XVID')\n",
    "w, h = 1280,720\n",
    "fourcc = cv2.VideoWriter_fourcc('m', 'p', '4', 'v')\n",
    "output_fps = 30\n",
    "output_movie = cv2.VideoWriter(os.path.join(output_dir,'output_video.avi'), fourcc, output_fps, (w, h))\n",
    "\n",
    "#url of the video to predict Age and gender\n",
    "url = 'https://www.youtube.com/watch?v=iH1ZJVqJO3Y'\n",
    "vPafy = pafy.new(url)\n",
    "play = vPafy.getbest(preftype=\"mp4\")\n",
    "\n",
    "# Capturing youtube video\n",
    "cap = cv2.VideoCapture(play.url)\n",
    "\n",
    "cap.set(3, 480) #set width of the frame\n",
    "cap.set(4, 640) #set height of the frame\n",
    "\n",
    "# Pretrained model mean values\n",
    "MODEL_MEAN_VALUES = (78.4263377603, 87.7689143744, 114.895847746)\n",
    "\n",
    "# Setting the same age and gender ranges as that of pre trianed model\n",
    "age_list = ['(0, 2)', '(4, 6)', '(8, 12)', '(15, 20)', '(25, 32)', '(38, 43)', '(48, 53)', '(60, 100)']\n",
    "\n",
    "gender_list = ['Male', 'Female']\n",
    "\n",
    "# Functions to load models\n",
    "def load_caffe_models():\n",
    " \n",
    "  age_net = cv2.dnn.readNetFromCaffe(os.path.join(path,'deploy_age.prototxt'), os.path.join(path,'age_net.caffemodel'))\n",
    "\n",
    "  gender_net = cv2.dnn.readNetFromCaffe(os.path.join(path,'deploy_gender.prototxt'), os.path.join(path,'gender_net.caffemodel'))\n",
    "\n",
    "  return (age_net, gender_net)\n",
    "\n",
    "# Function to detetct age and gender\n",
    "\n",
    "def video_detector(age_net, gender_net):\n",
    "  # Selecting cv2 font to write on the video\n",
    "  font = cv2.FONT_HERSHEY_SIMPLEX\n",
    "  framecount = 0\n",
    "\n",
    "  # Ending the loop when frames in output video are n*FPS (for e.g. 10*30=300)\n",
    "  while framecount < n*output_fps:\n",
    "\n",
    "      ret, image = cap.read()\n",
    "      framecount = framecount+1\n",
    "\n",
    "      face_cascade = cv2.CascadeClassifier(cv2.data.haarcascades + 'haarcascade_frontalface_alt.xml')\n",
    "      eye_cascade = cv2.CascadeClassifier(cv2.data.haarcascades + 'haarcascade_eye.xml')\n",
    "    \n",
    "      gray = cv2.cvtColor(image, cv2.COLOR_BGR2GRAY)\n",
    "\n",
    "      faces = face_cascade.detectMultiScale(gray, 1.1, 5)\n",
    "\n",
    "      for (x, y, w, h )in faces:\n",
    "        cv2.rectangle(image, (x, y), (x+w, y+h), (255, 255, 0), 2)\n",
    "\n",
    "      #Get Face \n",
    "        face_img = image[y:y+h, h:h+w].copy()\n",
    "        blob = cv2.dnn.blobFromImage(face_img, 1, (227, 227), MODEL_MEAN_VALUES, swapRB=False)\n",
    "\n",
    "      #Predict Gender\n",
    "        gender_net.setInput(blob)\n",
    "        gender_preds = gender_net.forward()\n",
    "        gender = gender_list[gender_preds[0].argmax()]\n",
    "        #print(\"Gender : \" + gender)\n",
    "\n",
    "      #Predict Age\n",
    "        age_net.setInput(blob)\n",
    "        age_preds = age_net.forward()\n",
    "        age = age_list[age_preds[0].argmax()]\n",
    "        #print(\"Age Range: \" + age)\n",
    "\n",
    "        overlay_text = \"%s %s\" % (gender, age)\n",
    "        cv2.putText(image, overlay_text, (x, y), font, 1, (255, 255, 255), 2, cv2.LINE_AA)\n",
    "      output_movie.write(image)\n",
    "  output_movie.release()\n",
    "  print(framecount)\n",
    "\n",
    "# Running made functions\n",
    "age_net, gender_net = load_caffe_models()\n",
    "\n",
    "video_detector(age_net, gender_net)"
   ]
  },
  {
   "cell_type": "code",
   "execution_count": null,
   "metadata": {},
   "outputs": [],
   "source": []
  }
 ],
 "metadata": {
  "colab": {
   "name": "Gender_Age_YouTube_Video.ipynb",
   "provenance": []
  },
  "kernelspec": {
   "display_name": "Python 3",
   "language": "python",
   "name": "python3"
  },
  "language_info": {
   "codemirror_mode": {
    "name": "ipython",
    "version": 3
   },
   "file_extension": ".py",
   "mimetype": "text/x-python",
   "name": "python",
   "nbconvert_exporter": "python",
   "pygments_lexer": "ipython3",
   "version": "3.8.5"
  }
 },
 "nbformat": 4,
 "nbformat_minor": 1
}
